{
 "cells": [
  {
   "cell_type": "code",
   "execution_count": 1,
   "id": "816a9cab",
   "metadata": {},
   "outputs": [],
   "source": [
    "from pycoingecko import CoinGeckoAPI\n",
    "from datetime import timezone\n",
    "from datetime import datetime\n",
    "import altair as alt\n",
    "import pandas as pd\n",
    "import numpy as np\n",
    "coingecko = CoinGeckoAPI()\n",
    "alt.renderers.enable('default')\n",
    "\n",
    "def datetime_to_unix(year, month, day):\n",
    "    dt = datetime(year, month, day)\n",
    "    timestamp = (dt - datetime(1970, 1, 1)).total_seconds()\n",
    "    return timestamp\n",
    "\n",
    "def unix_to_datetime(unix_time):\n",
    "    ts = int(unix_time/1000 if len(str(unix_time)) > 10 else unix_time) # /1000 handles milliseconds\n",
    "    return datetime.utcfromtimestamp(ts).strftime('%Y-%m-%d %l:%M%p').lower()\n",
    "\n",
    "def get_frame(crypto):\n",
    "    crypto_data = coingecko.get_coin_market_chart_by_id(crypto,vs_currency='usd',days='365')\n",
    "    return crypto_data\n",
    "\n",
    "def build_chart(result):\n",
    "    time = [ unix_to_datetime(i[0]) for i in result['prices'] ]\n",
    "    p_array = np.array(result['prices'])\n",
    "    price = p_array[:,1]\n",
    "\n",
    "    v_array = np.array(result['total_volumes'])\n",
    "    volume = v_array[:,1]\n",
    "\n",
    "    df = pd.DataFrame({'time':time, 'price':price, 'volume':volume})\n",
    "\n",
    "    # Create y-axis\n",
    "    base = alt.Chart(df).encode(x='time:O')\n",
    "    # Create bars \n",
    "    bar = base.mark_bar().encode(\n",
    "        alt.Y(\n",
    "            'volume:Q'\n",
    "        )\n",
    "    )\n",
    "    # Create line\n",
    "    line =  base.mark_line(color='orange').encode(\n",
    "        alt.Y(\n",
    "            'price:Q',\n",
    "            axis=alt.Axis(titleColor='#5276A7'),\n",
    "        )\n",
    "    )\n",
    "\n",
    "    # Build the chart\n",
    "    chart = alt.layer(bar, line).resolve_scale(y='independent').properties(width=600, title='Bitcoin Price & Volume')\n",
    "\n",
    "    chart.configure_title(\n",
    "        fontSize=20,\n",
    "        font='Helvetica',\n",
    "        color='black',\n",
    "        offset=10\n",
    "    )\n",
    "    \n",
    "    chart.show()\n",
    "\n",
    "bitcoin_result = get_frame('bitcoin')\n",
    "build_chart(bitcoin_result)"
   ]
  },
  {
   "cell_type": "code",
   "execution_count": null,
   "id": "0cba412f",
   "metadata": {},
   "outputs": [],
   "source": []
  },
  {
   "cell_type": "code",
   "execution_count": null,
   "id": "9995f305",
   "metadata": {},
   "outputs": [],
   "source": []
  }
 ],
 "metadata": {
  "kernelspec": {
   "display_name": "Python 3",
   "language": "python",
   "name": "python3"
  },
  "language_info": {
   "codemirror_mode": {
    "name": "ipython",
    "version": 3
   },
   "file_extension": ".py",
   "mimetype": "text/x-python",
   "name": "python",
   "nbconvert_exporter": "python",
   "pygments_lexer": "ipython3",
   "version": "3.9.7"
  },
  "varInspector": {
   "cols": {
    "lenName": 16,
    "lenType": 16,
    "lenVar": 40
   },
   "kernels_config": {
    "python": {
     "delete_cmd_postfix": "",
     "delete_cmd_prefix": "del ",
     "library": "var_list.py",
     "varRefreshCmd": "print(var_dic_list())"
    },
    "r": {
     "delete_cmd_postfix": ") ",
     "delete_cmd_prefix": "rm(",
     "library": "var_list.r",
     "varRefreshCmd": "cat(var_dic_list()) "
    }
   },
   "types_to_exclude": [
    "module",
    "function",
    "builtin_function_or_method",
    "instance",
    "_Feature"
   ],
   "window_display": false
  }
 },
 "nbformat": 4,
 "nbformat_minor": 5
}
